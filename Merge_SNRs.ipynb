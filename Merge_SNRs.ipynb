{
 "cells": [
  {
   "cell_type": "code",
   "execution_count": 5,
   "id": "uniform-sigma",
   "metadata": {},
   "outputs": [],
   "source": [
    "import pandas as pd\n",
    "from pathlib import Path"
   ]
  },
  {
   "cell_type": "code",
   "execution_count": 13,
   "id": "infrared-egypt",
   "metadata": {},
   "outputs": [],
   "source": [
    "csvs_ps = r'E:\\Faculta\\Anul2\\Disertatie\\cognitive-aether\\datasets\\final\\ch_ii\\test\\rice_fs'"
   ]
  },
  {
   "cell_type": "code",
   "execution_count": 14,
   "id": "demanding-arena",
   "metadata": {},
   "outputs": [],
   "source": [
    "csvs_path = Path(csvs_ps)\n",
    "\n",
    "all_dfs = []\n",
    "min_rows = 1e14\n",
    "for csv_file in csvs_path.glob('*.csv'):\n",
    "    snr_v = str(csv_file.resolve()).split('\\\\')[-1].split('_')[0]\n",
    "    df = pd.read_csv(csv_file)\n",
    "    df = df[:(len(df)//3)]\n",
    "    min_rows = min(min_rows, len(df))\n",
    "    for col in df.columns:\n",
    "        new_col_name = f'{snr_v}_{col}'\n",
    "        df.rename(columns = {col:new_col_name}, inplace = True)\n",
    "    all_dfs.append(df)\n",
    "\n",
    "merged_dfs = pd.concat(all_dfs, axis=1)\n",
    "merged_dfs = merged_dfs[:min_rows]"
   ]
  },
  {
   "cell_type": "code",
   "execution_count": 15,
   "id": "cultural-metallic",
   "metadata": {},
   "outputs": [],
   "source": [
    "merged_dfs.to_csv(csvs_ps + '\\\\allSNR_rice_fs_ofdm.csv')"
   ]
  },
  {
   "cell_type": "code",
   "execution_count": null,
   "id": "enabling-binding",
   "metadata": {},
   "outputs": [],
   "source": []
  }
 ],
 "metadata": {
  "kernelspec": {
   "display_name": "Python 3",
   "language": "python",
   "name": "python3"
  },
  "language_info": {
   "codemirror_mode": {
    "name": "ipython",
    "version": 3
   },
   "file_extension": ".py",
   "mimetype": "text/x-python",
   "name": "python",
   "nbconvert_exporter": "python",
   "pygments_lexer": "ipython3",
   "version": "3.6.8"
  }
 },
 "nbformat": 4,
 "nbformat_minor": 5
}
