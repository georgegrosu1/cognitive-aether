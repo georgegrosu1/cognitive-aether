{
 "cells": [
  {
   "cell_type": "code",
   "execution_count": 1,
   "id": "unauthorized-prize",
   "metadata": {},
   "outputs": [],
   "source": [
    "import numpy as np\n",
    "import seaborn as sns\n",
    "\n",
    "from matplotlib import pyplot as plt\n",
    "from skimage.restoration import estimate_sigma\n",
    "from src.utilities import window_pow_db, get_bayes_denoised, get_visu_denoised\n",
    "from src.utilities import pow_c_a_dwt, pow_c_d_dwt, logistic_map\n",
    "from src.communications_module import OFDMModulator\n",
    "from src.communications_module.channels import AWGNChannel, FadingChannel, TDLChannel"
   ]
  },
  {
   "cell_type": "code",
   "execution_count": 2,
   "id": "comparable-pasta",
   "metadata": {},
   "outputs": [],
   "source": [
    "rx_snrs_list = [-10, -5, 0, 5, 10]\n",
    "fft_size = 512\n",
    "subcarriers = 128\n",
    "num_pilots = 8\n",
    "bits_per_sym = 6\n",
    "cp_ratio = 4\n",
    "num_symbols = 500\n",
    "\n",
    "ch_type = 'rician'\n",
    "discrete_del = [5.2e-6]\n",
    "avg_path_g=[-7]\n",
    "max_doppler=0.01\n",
    "k_factors=[1.5]"
   ]
  },
  {
   "cell_type": "code",
   "execution_count": 3,
   "id": "polar-agenda",
   "metadata": {},
   "outputs": [],
   "source": [
    "import pandas as pd\n",
    "\n",
    "def averaged_sigma(x):\n",
    "    return estimate_sigma(x, average_sigmas=True)"
   ]
  },
  {
   "cell_type": "code",
   "execution_count": 4,
   "id": "instrumental-extension",
   "metadata": {
    "scrolled": false
   },
   "outputs": [
    {
     "name": "stdout",
     "output_type": "stream",
     "text": [
      "Required signal power: 0.06330873831075465 [W]=[V^2]\n",
      "Initial signal power: 0.007963672531940889 [W]=[V^2]\n",
      "Signal amplitude rescale factor: 2.819519694643116 [Volts]\n",
      "RX Signal power: 0.0633. Noise power: 2.0020, SNR [dB]: -15.0000\n",
      "Required signal power: 63.17435004745988 [W]=[V^2]\n",
      "Initial signal power: 0.005282397534293057 [W]=[V^2]\n",
      "Signal amplitude rescale factor: 109.35908062106462 [Volts]\n",
      "RX Signal power: 63.1744. Noise power: 1.9977, SNR [dB]: 15.0000\n"
     ]
    }
   ],
   "source": [
    "\n",
    "for rx_snr in rx_snrs_list:\n",
    "    df = pd.DataFrame()\n",
    "#     plt.figure(figsize=(15, 10))\n",
    "    ofdm_gen = OFDMModulator(bits_per_sym=bits_per_sym, \n",
    "                             fft_size=fft_size,\n",
    "                             subcarriers=subcarriers, \n",
    "                             cp_ratio_numitor=cp_ratio, \n",
    "                             num_pilots=num_pilots)\n",
    "    ofdm_sign = ofdm_gen.generate_ofdm_tx_signal(num_symbols, continuous_transmission=False)\n",
    "\n",
    "    fading_channel = FadingChannel(x_in=ofdm_sign,\n",
    "                                   channel_type=ch_type,\n",
    "                                   discrete_path_delays=discrete_del,\n",
    "                                   avg_path_gains=avg_path_g,\n",
    "                                   max_doppler_shift=max_doppler,\n",
    "                                   k_factors=k_factors)\n",
    "    \n",
    "#     fading_channel = TDLChannel(ofdm_sign, num_taps=1)\n",
    "    y_out_faded = fading_channel.filter_x_in()\n",
    "#     plt.plot(abs(ofdm_sign), label='Original')\n",
    "#     plt.plot(abs(y_out_faded), label='RX')\n",
    "#     plt.title(f'SNR: {rx_snr}')\n",
    "#     plt.ylim((0,2))\n",
    "#     plt.legend()\n",
    "#     fading_channel.plot_power_delay_profile()\n",
    "    \n",
    "    noise_model = AWGNChannel(y_out_faded, rx_snr)\n",
    "    y_out_noisy, n = noise_model.filter_x_in()\n",
    "#     plt.plot(abs(y_out_noisy), label='RX_faded&noisy')\n",
    "#     plt.title(f'SNR: {rx_snr}')\n",
    "#     plt.ylim((0,25))\n",
    "#     plt.plot(abs(n))\n",
    "#     plt.plot(abs(y_out_noisy))\n",
    "#     plt.plot(abs(ofdm_sign), label='T')\n",
    "#     plt.title(f'SNR: {rx_snr}')\n",
    "#     plt.legend()\n",
    "    \n",
    "    OFDM_RX, noise = y_out_noisy, n\n",
    "    df['TX_OFDM'] = abs(ofdm_sign)\n",
    "    df['noise'] = abs(noise)\n",
    "    df['RX_OFDM'] = abs(OFDM_RX)\n",
    "    df['RE_RX_OFDM'] = OFDM_RX.real\n",
    "    df['IM_RX_OFDM'] = OFDM_RX.imag\n",
    "    df['RX_BAYES'] = get_bayes_denoised(df['RX_OFDM'], df['noise'])\n",
    "    df['RX_VISU'] = get_visu_denoised(df['RX_OFDM'], df['noise'])\n",
    "#     df['AVG_CA_RXDWT'] = df['RX_VISU'].rolling(100).apply(pow_c_a_dwt)\n",
    "#     df['AVG_CD_RXDWT'] = df['RX_VISU'].rolling(100).apply(pow_c_d_dwt)\n",
    "    df['LOGISTICM_POW'] = df['RX_BAYES'].rolling(50).apply(logistic_map)\n",
    "    df['RX_POW_DB'] = df['RX_BAYES'].rolling(50).apply(window_pow_db)\n",
    "    \n",
    "#     df['RX_ENTROPY'] = df['RX_OFDM'].rolling(100).apply(shannon_entropy)\n",
    "    df['sigma'] = df['noise'].rolling(50).apply(np.var)\n",
    "    \n",
    "    last_nan = np.where(np.asanyarray(np.isnan(df)))[0][-1]\n",
    "    \n",
    "#     df = df.fillna(0)\n",
    "    df = df.loc[(last_nan+1):, :]\n",
    "    \n",
    "    \n",
    "    ones = df['TX_OFDM'] > 0\n",
    "    df.loc[ones, 'USER'] = 1\n",
    "    df.loc[~ones, 'USER'] = 0\n",
    "    if len(discrete_del) == 1:\n",
    "        df.to_csv(f'E:/Faculta/Anul2/Disertatie/cognitive-aether/datasets/final/{rx_snr}SNR_{ch_type}flat.csv', \n",
    "                  index=False)\n",
    "    else:\n",
    "        df.to_csv(f'E:/Faculta/Anul2/Disertatie/cognitive-aether/datasets/final/{rx_snr}SNR_{ch_type}_fselective_ofdm.csv', \n",
    "                  index=False)"
   ]
  },
  {
   "cell_type": "code",
   "execution_count": null,
   "id": "decent-weekend",
   "metadata": {},
   "outputs": [],
   "source": []
  }
 ],
 "metadata": {
  "kernelspec": {
   "display_name": "Python 3",
   "language": "python",
   "name": "python3"
  },
  "language_info": {
   "codemirror_mode": {
    "name": "ipython",
    "version": 3
   },
   "file_extension": ".py",
   "mimetype": "text/x-python",
   "name": "python",
   "nbconvert_exporter": "python",
   "pygments_lexer": "ipython3",
   "version": "3.6.8"
  }
 },
 "nbformat": 4,
 "nbformat_minor": 5
}
